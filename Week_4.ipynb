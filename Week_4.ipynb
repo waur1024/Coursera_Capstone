{
 "cells": [
  {
   "cell_type": "markdown",
   "metadata": {},
   "source": [
    "# Final Capstone Project "
   ]
  },
  {
   "cell_type": "markdown",
   "metadata": {},
   "source": [
    "### Introduction/Business Problem"
   ]
  },
  {
   "cell_type": "markdown",
   "metadata": {},
   "source": [
    "Many IT companies landed their headquaters in the pacific northwest.  To name a few: Amazon, Tableau, Redfin from Seattle; Microsoft from Redmond and Expedia from Bellevue.  This not only caused a growth in population but also great increase in housing price in those cities.  Because houses are becoming unaffordable to a lot of people working in those big cities, the outer cities have became popular for new comers to move into.  This notebook will explore Bellevue and one of the nearbt cities and observe the differences."
   ]
  },
  {
   "cell_type": "markdown",
   "metadata": {},
   "source": [
    "### Data"
   ]
  },
  {
   "cell_type": "markdown",
   "metadata": {},
   "source": [
    "#### Zillow Housing Data"
   ]
  },
  {
   "cell_type": "markdown",
   "metadata": {},
   "source": [
    "Home value forecast data can be downloaded from the Zillow research website.  By using this data, I will find a nearby city by checking for the highest percentage increase in home value. "
   ]
  },
  {
   "cell_type": "markdown",
   "metadata": {},
   "source": [
    "#### Foursquare Location Data"
   ]
  },
  {
   "cell_type": "markdown",
   "metadata": {},
   "source": [
    "By using the /venues/explore endpoint, I will download venues for the city of Bellevue and a nearby city.  For each city, I will follow the steps from a previous assignment and group the venues to show the top 10 venue categories.  Finally, apply clustering to both group venues and explore the differences."
   ]
  },
  {
   "cell_type": "code",
   "execution_count": null,
   "metadata": {},
   "outputs": [],
   "source": []
  }
 ],
 "metadata": {
  "kernelspec": {
   "display_name": "Python 3",
   "language": "python",
   "name": "python3"
  },
  "language_info": {
   "codemirror_mode": {
    "name": "ipython",
    "version": 3
   },
   "file_extension": ".py",
   "mimetype": "text/x-python",
   "name": "python",
   "nbconvert_exporter": "python",
   "pygments_lexer": "ipython3",
   "version": "3.8.2"
  }
 },
 "nbformat": 4,
 "nbformat_minor": 4
}
